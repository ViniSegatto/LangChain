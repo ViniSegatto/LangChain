{
  "nbformat": 4,
  "nbformat_minor": 0,
  "metadata": {
    "colab": {
      "provenance": []
    },
    "kernelspec": {
      "name": "python3",
      "display_name": "Python 3"
    },
    "language_info": {
      "name": "python"
    }
  },
  "cells": [
    {
      "cell_type": "code",
      "source": [
        "import streamlit as st\n",
        "import openai\n",
        "import requests\n",
        "from langchain_anthropic import ChatAnthropic\n",
        "from langchain_openai import ChatOpenAI\n",
        "from langchain.schema import HumanMessage\n",
        "\n",
        "def get_claude_response(api_key, text):\n",
        "    model_claude = ChatAnthropic(model='claude-3.5-sonnet-20240620', api_key=api_key)\n",
        "    return model_claude.predict(text)\n",
        "\n",
        "# Função para obter resposta do ChatGPT (OpenAI)\n",
        "def get_chatgpt_response(api_key, text):\n",
        "    chat_model_openai = ChatOpenAI(model_name=\"gpt-3.5-turbo\", openai_api_key=api_key)\n",
        "    messages = [HumanMessage(content=text)]\n",
        "    return chat_model_openai.invoke(messages)\n",
        "\n",
        "st.title(\"Comparador de Respostas entre ChatGPT e Claude\")\n",
        "\n",
        "chatgpt_api_key = st.text_input(\"Insira sua API Key do ChatGPT\", type=\"password\")\n",
        "claude_api_key = st.text_input(\"Insira sua API Key do Claude\", type=\"password\")\n",
        "\n",
        "text = st.text_area(\"Escreva o que você quer perguntar\")\n",
        "\n",
        "if st.button(\"Obter Respostas\"):\n",
        "    if chatgpt_api_key and claude_api_key and text:\n",
        "        chatgpt_response = get_chatgpt_response(chatgpt_api_key, text)\n",
        "        st.subheader(\"Resposta do ChatGPT\")\n",
        "        st.write(chatgpt_response)\n",
        "\n",
        "        claude_response = get_claude_response(claude_api_key, text)\n",
        "        st.subheader(\"Resposta do Claude\")\n",
        "        st.write(claude_response)\n",
        "    else:\n",
        "        st.error(\"Por favor, insira todas as chaves de API e a pergunta.\")\n"
      ],
      "metadata": {
        "id": "D4Uu_Gm4gKJM"
      },
      "execution_count": null,
      "outputs": []
    }
  ]
}